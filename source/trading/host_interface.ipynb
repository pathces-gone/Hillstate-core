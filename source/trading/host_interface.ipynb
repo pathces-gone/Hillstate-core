{
 "cells": [
  {
   "cell_type": "code",
   "execution_count": null,
   "metadata": {},
   "outputs": [],
   "source": [
    "import sys,os\n",
    "frontend_path = os.path.join(os.path.abspath(os.path.dirname(sys.argv[1])),'../..','Hillstate-Frontend/source')\n",
    "sys.path.append(frontend_path)\n",
    "import market as mkt\n",
    "\n",
    "import warnings\n",
    "warnings.filterwarnings(action='ignore') #default\n",
    "import pyfolio as pf\n",
    "import pandas as pd"
   ]
  }
 ],
 "metadata": {
  "language_info": {
   "name": "python"
  },
  "orig_nbformat": 4
 },
 "nbformat": 4,
 "nbformat_minor": 2
}
