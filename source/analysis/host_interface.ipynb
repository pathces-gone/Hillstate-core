{
 "cells": [
  {
   "cell_type": "code",
   "execution_count": 13,
   "metadata": {},
   "outputs": [],
   "source": [
    "import sys,os\n",
    "frontend_path = os.path.join(os.path.abspath(os.path.dirname(sys.argv[1])),'../..','Hillstate-Frontend/source')\n",
    "sys.path.append(frontend_path)\n",
    "import market as mkt\n",
    "\n",
    "import warnings\n",
    "warnings.filterwarnings(action='ignore') #default\n",
    "import pyfolio as pf\n",
    "import pandas as pd"
   ]
  },
  {
   "cell_type": "code",
   "execution_count": null,
   "metadata": {},
   "outputs": [],
   "source": []
  }
 ],
 "metadata": {
  "interpreter": {
   "hash": "d5d6f9088dec911ee94529a71f604ab69d01a047e7a8e97299651377083ed1ac"
  },
  "kernelspec": {
   "display_name": "Python 3.9.10 ('tf25')",
   "language": "python",
   "name": "python3"
  },
  "language_info": {
   "codemirror_mode": {
    "name": "ipython",
    "version": 3
   },
   "file_extension": ".py",
   "mimetype": "text/x-python",
   "name": "python",
   "nbconvert_exporter": "python",
   "pygments_lexer": "ipython3",
   "version": "3.9.10"
  },
  "orig_nbformat": 4
 },
 "nbformat": 4,
 "nbformat_minor": 2
}
